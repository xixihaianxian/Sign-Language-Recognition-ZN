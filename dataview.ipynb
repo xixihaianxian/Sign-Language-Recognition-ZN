{
 "cells": [
  {
   "cell_type": "code",
   "id": "initial_id",
   "metadata": {
    "collapsed": true,
    "ExecuteTime": {
     "end_time": "2025-10-07T05:58:08.198560Z",
     "start_time": "2025-10-07T05:58:07.743919Z"
    }
   },
   "source": "import pandas as pd",
   "outputs": [],
   "execution_count": 1
  },
  {
   "metadata": {
    "ExecuteTime": {
     "end_time": "2025-10-07T06:26:16.881414Z",
     "start_time": "2025-10-07T06:26:16.854803Z"
    }
   },
   "cell_type": "code",
   "source": "df=pd.read_csv(\"./labeldata/RWTH/train.corpus.csv\",sep=\"|\",header=0)",
   "id": "726ea83577ddbcd4",
   "outputs": [],
   "execution_count": 21
  },
  {
   "metadata": {
    "ExecuteTime": {
     "end_time": "2025-10-07T06:26:17.095210Z",
     "start_time": "2025-10-07T06:26:17.088314Z"
    }
   },
   "cell_type": "code",
   "source": "df.head(10)",
   "id": "893ef2d0c8422c42",
   "outputs": [
    {
     "data": {
      "text/plain": [
       "                                           id  \\\n",
       "0       01April_2010_Thursday_heute_default-0   \n",
       "1       01April_2010_Thursday_heute_default-2   \n",
       "2       01April_2010_Thursday_heute_default-3   \n",
       "3       01April_2010_Thursday_heute_default-4   \n",
       "4       01April_2010_Thursday_heute_default-6   \n",
       "5       01April_2010_Thursday_heute_default-7   \n",
       "6       01April_2010_Thursday_heute_default-8   \n",
       "7  01April_2010_Thursday_tagesschau_default-0   \n",
       "8  01April_2010_Thursday_tagesschau_default-2   \n",
       "9  01April_2010_Thursday_tagesschau_default-3   \n",
       "\n",
       "                                              folder    signer  \\\n",
       "0      01April_2010_Thursday_heute_default-0/1/*.png  Signer04   \n",
       "1      01April_2010_Thursday_heute_default-2/1/*.png  Signer04   \n",
       "2      01April_2010_Thursday_heute_default-3/1/*.png  Signer04   \n",
       "3      01April_2010_Thursday_heute_default-4/1/*.png  Signer04   \n",
       "4      01April_2010_Thursday_heute_default-6/1/*.png  Signer04   \n",
       "5      01April_2010_Thursday_heute_default-7/1/*.png  Signer04   \n",
       "6      01April_2010_Thursday_heute_default-8/1/*.png  Signer04   \n",
       "7  01April_2010_Thursday_tagesschau_default-0/1/*...  Signer04   \n",
       "8  01April_2010_Thursday_tagesschau_default-2/1/*...  Signer04   \n",
       "9  01April_2010_Thursday_tagesschau_default-3/1/*...  Signer04   \n",
       "\n",
       "                                          annotation  \n",
       "0  __ON__ LIEB ZUSCHAUER ABEND WINTER GESTERN loc...  \n",
       "1               loc-WEST WARM loc-WEST BLEIBEN KUEHL  \n",
       "2  KUEHL KUEHL IN-KOMMEND NACHT MINUS loc-MINUS-P...  \n",
       "3  MORGEN TEMPERATUR ACHT BIS DREIZEHN MAXIMAL DR...  \n",
       "4  AUCH SAMSTAG WEST FREUNDLICH IX TROCKEN WEST R...  \n",
       "5  SONNTAG SUED SCHNEE DABEI MONTAG __EMOTION__ S...  \n",
       "6  DANN FREUNDLICH KLAR MONTAG MEHR MEHR WARM AB ...  \n",
       "7  __ON__ WETTER WIE-AUSSEHEN MORGEN FREITAG ZWEI...  \n",
       "8  HEUTE NACHT OST REGEN loc-NORD __EMOTION__ REG...  \n",
       "9  IX SCHAUER ABEND WEST loc-SUED BISSCHEN REGEN ...  "
      ],
      "text/html": [
       "<div>\n",
       "<style scoped>\n",
       "    .dataframe tbody tr th:only-of-type {\n",
       "        vertical-align: middle;\n",
       "    }\n",
       "\n",
       "    .dataframe tbody tr th {\n",
       "        vertical-align: top;\n",
       "    }\n",
       "\n",
       "    .dataframe thead th {\n",
       "        text-align: right;\n",
       "    }\n",
       "</style>\n",
       "<table border=\"1\" class=\"dataframe\">\n",
       "  <thead>\n",
       "    <tr style=\"text-align: right;\">\n",
       "      <th></th>\n",
       "      <th>id</th>\n",
       "      <th>folder</th>\n",
       "      <th>signer</th>\n",
       "      <th>annotation</th>\n",
       "    </tr>\n",
       "  </thead>\n",
       "  <tbody>\n",
       "    <tr>\n",
       "      <th>0</th>\n",
       "      <td>01April_2010_Thursday_heute_default-0</td>\n",
       "      <td>01April_2010_Thursday_heute_default-0/1/*.png</td>\n",
       "      <td>Signer04</td>\n",
       "      <td>__ON__ LIEB ZUSCHAUER ABEND WINTER GESTERN loc...</td>\n",
       "    </tr>\n",
       "    <tr>\n",
       "      <th>1</th>\n",
       "      <td>01April_2010_Thursday_heute_default-2</td>\n",
       "      <td>01April_2010_Thursday_heute_default-2/1/*.png</td>\n",
       "      <td>Signer04</td>\n",
       "      <td>loc-WEST WARM loc-WEST BLEIBEN KUEHL</td>\n",
       "    </tr>\n",
       "    <tr>\n",
       "      <th>2</th>\n",
       "      <td>01April_2010_Thursday_heute_default-3</td>\n",
       "      <td>01April_2010_Thursday_heute_default-3/1/*.png</td>\n",
       "      <td>Signer04</td>\n",
       "      <td>KUEHL KUEHL IN-KOMMEND NACHT MINUS loc-MINUS-P...</td>\n",
       "    </tr>\n",
       "    <tr>\n",
       "      <th>3</th>\n",
       "      <td>01April_2010_Thursday_heute_default-4</td>\n",
       "      <td>01April_2010_Thursday_heute_default-4/1/*.png</td>\n",
       "      <td>Signer04</td>\n",
       "      <td>MORGEN TEMPERATUR ACHT BIS DREIZEHN MAXIMAL DR...</td>\n",
       "    </tr>\n",
       "    <tr>\n",
       "      <th>4</th>\n",
       "      <td>01April_2010_Thursday_heute_default-6</td>\n",
       "      <td>01April_2010_Thursday_heute_default-6/1/*.png</td>\n",
       "      <td>Signer04</td>\n",
       "      <td>AUCH SAMSTAG WEST FREUNDLICH IX TROCKEN WEST R...</td>\n",
       "    </tr>\n",
       "    <tr>\n",
       "      <th>5</th>\n",
       "      <td>01April_2010_Thursday_heute_default-7</td>\n",
       "      <td>01April_2010_Thursday_heute_default-7/1/*.png</td>\n",
       "      <td>Signer04</td>\n",
       "      <td>SONNTAG SUED SCHNEE DABEI MONTAG __EMOTION__ S...</td>\n",
       "    </tr>\n",
       "    <tr>\n",
       "      <th>6</th>\n",
       "      <td>01April_2010_Thursday_heute_default-8</td>\n",
       "      <td>01April_2010_Thursday_heute_default-8/1/*.png</td>\n",
       "      <td>Signer04</td>\n",
       "      <td>DANN FREUNDLICH KLAR MONTAG MEHR MEHR WARM AB ...</td>\n",
       "    </tr>\n",
       "    <tr>\n",
       "      <th>7</th>\n",
       "      <td>01April_2010_Thursday_tagesschau_default-0</td>\n",
       "      <td>01April_2010_Thursday_tagesschau_default-0/1/*...</td>\n",
       "      <td>Signer04</td>\n",
       "      <td>__ON__ WETTER WIE-AUSSEHEN MORGEN FREITAG ZWEI...</td>\n",
       "    </tr>\n",
       "    <tr>\n",
       "      <th>8</th>\n",
       "      <td>01April_2010_Thursday_tagesschau_default-2</td>\n",
       "      <td>01April_2010_Thursday_tagesschau_default-2/1/*...</td>\n",
       "      <td>Signer04</td>\n",
       "      <td>HEUTE NACHT OST REGEN loc-NORD __EMOTION__ REG...</td>\n",
       "    </tr>\n",
       "    <tr>\n",
       "      <th>9</th>\n",
       "      <td>01April_2010_Thursday_tagesschau_default-3</td>\n",
       "      <td>01April_2010_Thursday_tagesschau_default-3/1/*...</td>\n",
       "      <td>Signer04</td>\n",
       "      <td>IX SCHAUER ABEND WEST loc-SUED BISSCHEN REGEN ...</td>\n",
       "    </tr>\n",
       "  </tbody>\n",
       "</table>\n",
       "</div>"
      ]
     },
     "execution_count": 22,
     "metadata": {},
     "output_type": "execute_result"
    }
   ],
   "execution_count": 22
  },
  {
   "metadata": {},
   "cell_type": "code",
   "outputs": [],
   "execution_count": null,
   "source": "",
   "id": "c350e3da284642e6"
  }
 ],
 "metadata": {
  "kernelspec": {
   "display_name": "Python 3",
   "language": "python",
   "name": "python3"
  },
  "language_info": {
   "codemirror_mode": {
    "name": "ipython",
    "version": 2
   },
   "file_extension": ".py",
   "mimetype": "text/x-python",
   "name": "python",
   "nbconvert_exporter": "python",
   "pygments_lexer": "ipython2",
   "version": "2.7.6"
  }
 },
 "nbformat": 4,
 "nbformat_minor": 5
}
